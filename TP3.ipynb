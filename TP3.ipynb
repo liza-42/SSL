{
 "cells": [
  {
   "cell_type": "code",
   "execution_count": null,
   "metadata": {},
   "outputs": [],
   "source": [
    "# TP 3 : Analyse et filtrage de signaux vocaux\n",
    "# SEVENNEC Ilyan et BELKHEIR Liza \n",
    "# 25/11/24 \n",
    "\n",
    "# 1 Analysespectrale de signaux de base\n",
    "\n",
    "\n",
    " # Lire sans écouter le signal\n",
    "x , Fe = audioread( 'aaa.wav' , False)\n",
    " # Lire et écouter le signal\n",
    "x , Fe = audioread( 'aaa.wav' , True)\n"
   ]
  }
 ],
 "metadata": {
  "kernelspec": {
   "display_name": "env_msi",
   "language": "python",
   "name": "python3"
  },
  "language_info": {
   "name": "python",
   "version": "3.10.11"
  }
 },
 "nbformat": 4,
 "nbformat_minor": 2
}
